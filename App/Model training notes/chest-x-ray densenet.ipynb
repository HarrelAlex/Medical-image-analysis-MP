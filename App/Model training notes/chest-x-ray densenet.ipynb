{
 "cells": [
  {
   "cell_type": "code",
   "execution_count": 1,
   "id": "76e587b8",
   "metadata": {
    "execution": {
     "iopub.execute_input": "2023-12-10T20:00:48.969233Z",
     "iopub.status.busy": "2023-12-10T20:00:48.968891Z",
     "iopub.status.idle": "2023-12-10T20:01:02.539215Z",
     "shell.execute_reply": "2023-12-10T20:01:02.538205Z"
    },
    "papermill": {
     "duration": 13.58138,
     "end_time": "2023-12-10T20:01:02.541997",
     "exception": false,
     "start_time": "2023-12-10T20:00:48.960617",
     "status": "completed"
    },
    "tags": []
   },
   "outputs": [],
   "source": [
    "# MIA Pneumonia project model\n",
    "\n",
    "import numpy as np\n",
    "import pandas as pd\n",
    "import tensorflow as tf\n",
    "from tensorflow.keras.preprocessing.image import ImageDataGenerator\n",
    "from tensorflow.keras import mixed_precision\n",
    "mixed_precision.set_global_policy(policy=\"mixed_float16\")\n",
    "tf.random.set_seed(329)\n"
   ]
  },
  {
   "cell_type": "code",
   "execution_count": 7,
   "id": "0b521995",
   "metadata": {
    "execution": {
     "iopub.execute_input": "2023-12-10T20:01:19.114252Z",
     "iopub.status.busy": "2023-12-10T20:01:19.113938Z",
     "iopub.status.idle": "2023-12-10T20:01:19.119213Z",
     "shell.execute_reply": "2023-12-10T20:01:19.118345Z"
    },
    "papermill": {
     "duration": 0.016288,
     "end_time": "2023-12-10T20:01:19.121060",
     "exception": false,
     "start_time": "2023-12-10T20:01:19.104772",
     "status": "completed"
    },
    "tags": []
   },
   "outputs": [],
   "source": [
    "# Loading dataset\n",
    "\n",
    "train_dir = 'Input/chest_xray/train'\n",
    "test_dir = 'Input/chest_xray/test'\n",
    "val_dir = 'Input/chest_xray/val'\n",
    "IMG_SIZE = (224,224)\n",
    "BATCH_SIZE = 32\n",
    "\n",
    "train_gen = ImageDataGenerator(\n",
    "                rescale=1. / 255,\n",
    "                horizontal_flip=True)\n",
    "val_gen = ImageDataGenerator(rescale=1. / 255)\n",
    "test_gen = ImageDataGenerator(rescale=1. / 255)"
   ]
  },
  {
   "cell_type": "code",
   "execution_count": 8,
   "id": "e5634db0",
   "metadata": {
    "execution": {
     "iopub.execute_input": "2023-12-10T20:01:19.138847Z",
     "iopub.status.busy": "2023-12-10T20:01:19.138535Z",
     "iopub.status.idle": "2023-12-10T20:01:19.879382Z",
     "shell.execute_reply": "2023-12-10T20:01:19.878675Z"
    },
    "papermill": {
     "duration": 0.752001,
     "end_time": "2023-12-10T20:01:19.881403",
     "exception": false,
     "start_time": "2023-12-10T20:01:19.129402",
     "status": "completed"
    },
    "tags": []
   },
   "outputs": [
    {
     "name": "stdout",
     "output_type": "stream",
     "text": [
      "Found 5216 images belonging to 2 classes.\n",
      "Found 16 images belonging to 2 classes.\n",
      "Found 624 images belonging to 2 classes.\n"
     ]
    }
   ],
   "source": [
    "# Preprocessing\n",
    "\n",
    "train_data= train_gen.flow_from_directory(\n",
    "    train_dir,\n",
    "    target_size=IMG_SIZE,\n",
    "    batch_size=BATCH_SIZE,\n",
    "    class_mode='binary',\n",
    "    shuffle = True)\n",
    "val_data = val_gen.flow_from_directory(\n",
    "    val_dir,\n",
    "    target_size=IMG_SIZE,\n",
    "    batch_size=BATCH_SIZE,\n",
    "    class_mode='binary')\n",
    "test_data = test_gen.flow_from_directory(\n",
    "    test_dir,\n",
    "    target_size=IMG_SIZE,\n",
    "    batch_size=BATCH_SIZE,\n",
    "    class_mode='binary')"
   ]
  },
  {
   "cell_type": "code",
   "execution_count": 9,
   "id": "cf680983",
   "metadata": {
    "execution": {
     "iopub.execute_input": "2023-12-10T20:01:24.785922Z",
     "iopub.status.busy": "2023-12-10T20:01:24.785165Z",
     "iopub.status.idle": "2023-12-10T20:01:24.790824Z",
     "shell.execute_reply": "2023-12-10T20:01:24.789975Z"
    },
    "papermill": {
     "duration": 0.031292,
     "end_time": "2023-12-10T20:01:24.792699",
     "exception": false,
     "start_time": "2023-12-10T20:01:24.761407",
     "status": "completed"
    },
    "tags": []
   },
   "outputs": [],
   "source": [
    "# Defining Callbacks\n",
    "\n",
    "model_checkpoint = tf.keras.callbacks.ModelCheckpoint('cp.weights.h5',\n",
    "                                                      monitor=\"val_loss\",\n",
    "                                                      save_best_only=True,\n",
    "                                                      save_weights_only=True)\n",
    "early_stopping = tf.keras.callbacks.EarlyStopping(\n",
    "                              monitor='val_loss',\n",
    "                              patience=5,\n",
    "                              min_delta=1e-7,\n",
    "                              restore_best_weights=True,\n",
    "                              )\n"
   ]
  },
  {
   "cell_type": "code",
   "execution_count": 12,
   "id": "29f9149b",
   "metadata": {
    "execution": {
     "iopub.execute_input": "2023-12-10T20:01:24.932984Z",
     "iopub.status.busy": "2023-12-10T20:01:24.932617Z",
     "iopub.status.idle": "2023-12-10T20:01:33.206283Z",
     "shell.execute_reply": "2023-12-10T20:01:33.205438Z"
    },
    "papermill": {
     "duration": 8.3005,
     "end_time": "2023-12-10T20:01:33.208798",
     "exception": false,
     "start_time": "2023-12-10T20:01:24.908298",
     "status": "completed"
    },
    "tags": []
   },
   "outputs": [
    {
     "name": "stdout",
     "output_type": "stream",
     "text": [
      "Downloading data from https://storage.googleapis.com/tensorflow/keras-applications/densenet/densenet121_weights_tf_dim_ordering_tf_kernels_notop.h5\n",
      "\u001b[1m29084464/29084464\u001b[0m \u001b[32m━━━━━━━━━━━━━━━━━━━━\u001b[0m\u001b[37m\u001b[0m \u001b[1m9s\u001b[0m 0us/step\n"
     ]
    }
   ],
   "source": [
    "# Transfer Learning using DenseNet121 and feature extraction\n",
    "\n",
    "input_shape=(224,224,3)\n",
    "\n",
    "base_model = tf.keras.applications.DenseNet121(include_top=False,input_shape=input_shape)\n",
    "base_model.trainable = False\n",
    "inputs = tf.keras.layers.Input(shape=input_shape,name='input_layer')\n",
    "\n",
    "base_model = base_model(inputs)\n",
    "base_model = tf.keras.layers.GlobalAveragePooling2D()(base_model)\n",
    "\n",
    "outputs = tf.keras.layers.Dense(1, activation = 'sigmoid',dtype=tf.float32)(base_model)\n",
    "\n",
    "model = tf.keras.models.Model(inputs = inputs, outputs = outputs)"
   ]
  },
  {
   "cell_type": "code",
   "execution_count": 15,
   "id": "10763681",
   "metadata": {
    "execution": {
     "iopub.execute_input": "2023-12-10T20:01:33.258458Z",
     "iopub.status.busy": "2023-12-10T20:01:33.257891Z",
     "iopub.status.idle": "2023-12-10T20:01:33.283674Z",
     "shell.execute_reply": "2023-12-10T20:01:33.282794Z"
    },
    "papermill": {
     "duration": 0.053012,
     "end_time": "2023-12-10T20:01:33.285814",
     "exception": false,
     "start_time": "2023-12-10T20:01:33.232802",
     "status": "completed"
    },
    "tags": []
   },
   "outputs": [],
   "source": [
    "# We use Adam optimizer\n",
    "\n",
    "model.compile(\n",
    "    loss='binary_crossentropy',\n",
    "    optimizer=tf.keras.optimizers.Adam(learning_rate=0.0001),\n",
    "    metrics=['binary_accuracy']\n",
    ")"
   ]
  },
  {
   "cell_type": "code",
   "execution_count": 16,
   "id": "43c6ec86",
   "metadata": {
    "execution": {
     "iopub.execute_input": "2023-12-10T20:01:33.380145Z",
     "iopub.status.busy": "2023-12-10T20:01:33.379745Z",
     "iopub.status.idle": "2023-12-10T20:01:33.440531Z",
     "shell.execute_reply": "2023-12-10T20:01:33.439568Z"
    },
    "papermill": {
     "duration": 0.087245,
     "end_time": "2023-12-10T20:01:33.442588",
     "exception": false,
     "start_time": "2023-12-10T20:01:33.355343",
     "status": "completed"
    },
    "tags": []
   },
   "outputs": [
    {
     "data": {
      "text/html": [
       "<pre style=\"white-space:pre;overflow-x:auto;line-height:normal;font-family:Menlo,'DejaVu Sans Mono',consolas,'Courier New',monospace\"><span style=\"font-weight: bold\">Model: \"functional_1\"</span>\n",
       "</pre>\n"
      ],
      "text/plain": [
       "\u001b[1mModel: \"functional_1\"\u001b[0m\n"
      ]
     },
     "metadata": {},
     "output_type": "display_data"
    },
    {
     "data": {
      "text/html": [
       "<pre style=\"white-space:pre;overflow-x:auto;line-height:normal;font-family:Menlo,'DejaVu Sans Mono',consolas,'Courier New',monospace\">┏━━━━━━━━━━━━━━━━━━━━━━━━━━━━━━━━━┳━━━━━━━━━━━━━━━━━━━━━━━━┳━━━━━━━━━━━━━━━┓\n",
       "┃<span style=\"font-weight: bold\"> Layer (type)                    </span>┃<span style=\"font-weight: bold\"> Output Shape           </span>┃<span style=\"font-weight: bold\">       Param # </span>┃\n",
       "┡━━━━━━━━━━━━━━━━━━━━━━━━━━━━━━━━━╇━━━━━━━━━━━━━━━━━━━━━━━━╇━━━━━━━━━━━━━━━┩\n",
       "│ input_layer (<span style=\"color: #0087ff; text-decoration-color: #0087ff\">InputLayer</span>)        │ (<span style=\"color: #00d7ff; text-decoration-color: #00d7ff\">None</span>, <span style=\"color: #00af00; text-decoration-color: #00af00\">224</span>, <span style=\"color: #00af00; text-decoration-color: #00af00\">224</span>, <span style=\"color: #00af00; text-decoration-color: #00af00\">3</span>)    │             <span style=\"color: #00af00; text-decoration-color: #00af00\">0</span> │\n",
       "├─────────────────────────────────┼────────────────────────┼───────────────┤\n",
       "│ densenet121 (<span style=\"color: #0087ff; text-decoration-color: #0087ff\">Functional</span>)        │ (<span style=\"color: #00d7ff; text-decoration-color: #00d7ff\">None</span>, <span style=\"color: #00af00; text-decoration-color: #00af00\">7</span>, <span style=\"color: #00af00; text-decoration-color: #00af00\">7</span>, <span style=\"color: #00af00; text-decoration-color: #00af00\">1024</span>)     │     <span style=\"color: #00af00; text-decoration-color: #00af00\">7,037,504</span> │\n",
       "├─────────────────────────────────┼────────────────────────┼───────────────┤\n",
       "│ global_average_pooling2d        │ (<span style=\"color: #00d7ff; text-decoration-color: #00d7ff\">None</span>, <span style=\"color: #00af00; text-decoration-color: #00af00\">1024</span>)           │             <span style=\"color: #00af00; text-decoration-color: #00af00\">0</span> │\n",
       "│ (<span style=\"color: #0087ff; text-decoration-color: #0087ff\">GlobalAveragePooling2D</span>)        │                        │               │\n",
       "├─────────────────────────────────┼────────────────────────┼───────────────┤\n",
       "│ dense (<span style=\"color: #0087ff; text-decoration-color: #0087ff\">Dense</span>)                   │ (<span style=\"color: #00d7ff; text-decoration-color: #00d7ff\">None</span>, <span style=\"color: #00af00; text-decoration-color: #00af00\">1</span>)              │         <span style=\"color: #00af00; text-decoration-color: #00af00\">1,025</span> │\n",
       "└─────────────────────────────────┴────────────────────────┴───────────────┘\n",
       "</pre>\n"
      ],
      "text/plain": [
       "┏━━━━━━━━━━━━━━━━━━━━━━━━━━━━━━━━━┳━━━━━━━━━━━━━━━━━━━━━━━━┳━━━━━━━━━━━━━━━┓\n",
       "┃\u001b[1m \u001b[0m\u001b[1mLayer (type)                   \u001b[0m\u001b[1m \u001b[0m┃\u001b[1m \u001b[0m\u001b[1mOutput Shape          \u001b[0m\u001b[1m \u001b[0m┃\u001b[1m \u001b[0m\u001b[1m      Param #\u001b[0m\u001b[1m \u001b[0m┃\n",
       "┡━━━━━━━━━━━━━━━━━━━━━━━━━━━━━━━━━╇━━━━━━━━━━━━━━━━━━━━━━━━╇━━━━━━━━━━━━━━━┩\n",
       "│ input_layer (\u001b[38;5;33mInputLayer\u001b[0m)        │ (\u001b[38;5;45mNone\u001b[0m, \u001b[38;5;34m224\u001b[0m, \u001b[38;5;34m224\u001b[0m, \u001b[38;5;34m3\u001b[0m)    │             \u001b[38;5;34m0\u001b[0m │\n",
       "├─────────────────────────────────┼────────────────────────┼───────────────┤\n",
       "│ densenet121 (\u001b[38;5;33mFunctional\u001b[0m)        │ (\u001b[38;5;45mNone\u001b[0m, \u001b[38;5;34m7\u001b[0m, \u001b[38;5;34m7\u001b[0m, \u001b[38;5;34m1024\u001b[0m)     │     \u001b[38;5;34m7,037,504\u001b[0m │\n",
       "├─────────────────────────────────┼────────────────────────┼───────────────┤\n",
       "│ global_average_pooling2d        │ (\u001b[38;5;45mNone\u001b[0m, \u001b[38;5;34m1024\u001b[0m)           │             \u001b[38;5;34m0\u001b[0m │\n",
       "│ (\u001b[38;5;33mGlobalAveragePooling2D\u001b[0m)        │                        │               │\n",
       "├─────────────────────────────────┼────────────────────────┼───────────────┤\n",
       "│ dense (\u001b[38;5;33mDense\u001b[0m)                   │ (\u001b[38;5;45mNone\u001b[0m, \u001b[38;5;34m1\u001b[0m)              │         \u001b[38;5;34m1,025\u001b[0m │\n",
       "└─────────────────────────────────┴────────────────────────┴───────────────┘\n"
      ]
     },
     "metadata": {},
     "output_type": "display_data"
    },
    {
     "data": {
      "text/html": [
       "<pre style=\"white-space:pre;overflow-x:auto;line-height:normal;font-family:Menlo,'DejaVu Sans Mono',consolas,'Courier New',monospace\"><span style=\"font-weight: bold\"> Total params: </span><span style=\"color: #00af00; text-decoration-color: #00af00\">7,038,529</span> (26.85 MB)\n",
       "</pre>\n"
      ],
      "text/plain": [
       "\u001b[1m Total params: \u001b[0m\u001b[38;5;34m7,038,529\u001b[0m (26.85 MB)\n"
      ]
     },
     "metadata": {},
     "output_type": "display_data"
    },
    {
     "data": {
      "text/html": [
       "<pre style=\"white-space:pre;overflow-x:auto;line-height:normal;font-family:Menlo,'DejaVu Sans Mono',consolas,'Courier New',monospace\"><span style=\"font-weight: bold\"> Trainable params: </span><span style=\"color: #00af00; text-decoration-color: #00af00\">1,025</span> (4.00 KB)\n",
       "</pre>\n"
      ],
      "text/plain": [
       "\u001b[1m Trainable params: \u001b[0m\u001b[38;5;34m1,025\u001b[0m (4.00 KB)\n"
      ]
     },
     "metadata": {},
     "output_type": "display_data"
    },
    {
     "data": {
      "text/html": [
       "<pre style=\"white-space:pre;overflow-x:auto;line-height:normal;font-family:Menlo,'DejaVu Sans Mono',consolas,'Courier New',monospace\"><span style=\"font-weight: bold\"> Non-trainable params: </span><span style=\"color: #00af00; text-decoration-color: #00af00\">7,037,504</span> (26.85 MB)\n",
       "</pre>\n"
      ],
      "text/plain": [
       "\u001b[1m Non-trainable params: \u001b[0m\u001b[38;5;34m7,037,504\u001b[0m (26.85 MB)\n"
      ]
     },
     "metadata": {},
     "output_type": "display_data"
    }
   ],
   "source": [
    "# To get a summary of model\n",
    "\n",
    "model.summary()"
   ]
  },
  {
   "cell_type": "code",
   "execution_count": 17,
   "id": "56b0b3b2",
   "metadata": {
    "execution": {
     "iopub.execute_input": "2023-12-10T20:01:33.494582Z",
     "iopub.status.busy": "2023-12-10T20:01:33.493720Z",
     "iopub.status.idle": "2023-12-10T20:16:14.638157Z",
     "shell.execute_reply": "2023-12-10T20:16:14.637025Z"
    },
    "papermill": {
     "duration": 881.173254,
     "end_time": "2023-12-10T20:16:14.640629",
     "exception": false,
     "start_time": "2023-12-10T20:01:33.467375",
     "status": "completed"
    },
    "tags": []
   },
   "outputs": [
    {
     "name": "stdout",
     "output_type": "stream",
     "text": [
      "Epoch 1/20\n"
     ]
    },
    {
     "name": "stderr",
     "output_type": "stream",
     "text": [
      "e:\\Program Files\\Python\\Python312\\Lib\\site-packages\\keras\\src\\trainers\\data_adapters\\py_dataset_adapter.py:120: UserWarning: Your `PyDataset` class should call `super().__init__(**kwargs)` in its constructor. `**kwargs` can include `workers`, `use_multiprocessing`, `max_queue_size`. Do not pass these arguments to `fit()`, as they will be ignored.\n",
      "  self._warn_if_super_not_called()\n"
     ]
    },
    {
     "name": "stdout",
     "output_type": "stream",
     "text": [
      "\u001b[1m163/163\u001b[0m \u001b[32m━━━━━━━━━━━━━━━━━━━━\u001b[0m\u001b[37m\u001b[0m \u001b[1m455s\u001b[0m 3s/step - binary_accuracy: 0.7394 - loss: 0.5495 - val_binary_accuracy: 0.6971 - val_loss: 0.5292\n",
      "Epoch 2/20\n",
      "\u001b[1m163/163\u001b[0m \u001b[32m━━━━━━━━━━━━━━━━━━━━\u001b[0m\u001b[37m\u001b[0m \u001b[1m425s\u001b[0m 3s/step - binary_accuracy: 0.7999 - loss: 0.4167 - val_binary_accuracy: 0.7292 - val_loss: 0.4722\n",
      "Epoch 3/20\n",
      "\u001b[1m163/163\u001b[0m \u001b[32m━━━━━━━━━━━━━━━━━━━━\u001b[0m\u001b[37m\u001b[0m \u001b[1m424s\u001b[0m 3s/step - binary_accuracy: 0.8620 - loss: 0.3449 - val_binary_accuracy: 0.7532 - val_loss: 0.4393\n",
      "Epoch 4/20\n",
      "\u001b[1m163/163\u001b[0m \u001b[32m━━━━━━━━━━━━━━━━━━━━\u001b[0m\u001b[37m\u001b[0m \u001b[1m417s\u001b[0m 3s/step - binary_accuracy: 0.8906 - loss: 0.2931 - val_binary_accuracy: 0.7740 - val_loss: 0.4146\n",
      "Epoch 5/20\n",
      "\u001b[1m163/163\u001b[0m \u001b[32m━━━━━━━━━━━━━━━━━━━━\u001b[0m\u001b[37m\u001b[0m \u001b[1m408s\u001b[0m 2s/step - binary_accuracy: 0.9183 - loss: 0.2586 - val_binary_accuracy: 0.7853 - val_loss: 0.4067\n",
      "Epoch 6/20\n",
      "\u001b[1m163/163\u001b[0m \u001b[32m━━━━━━━━━━━━━━━━━━━━\u001b[0m\u001b[37m\u001b[0m \u001b[1m410s\u001b[0m 3s/step - binary_accuracy: 0.9253 - loss: 0.2386 - val_binary_accuracy: 0.8013 - val_loss: 0.3903\n",
      "Epoch 7/20\n",
      "\u001b[1m163/163\u001b[0m \u001b[32m━━━━━━━━━━━━━━━━━━━━\u001b[0m\u001b[37m\u001b[0m \u001b[1m409s\u001b[0m 3s/step - binary_accuracy: 0.9319 - loss: 0.2214 - val_binary_accuracy: 0.8029 - val_loss: 0.3892\n",
      "Epoch 8/20\n",
      "\u001b[1m163/163\u001b[0m \u001b[32m━━━━━━━━━━━━━━━━━━━━\u001b[0m\u001b[37m\u001b[0m \u001b[1m408s\u001b[0m 2s/step - binary_accuracy: 0.9299 - loss: 0.2125 - val_binary_accuracy: 0.8029 - val_loss: 0.3876\n",
      "Epoch 9/20\n",
      "\u001b[1m163/163\u001b[0m \u001b[32m━━━━━━━━━━━━━━━━━━━━\u001b[0m\u001b[37m\u001b[0m \u001b[1m410s\u001b[0m 3s/step - binary_accuracy: 0.9375 - loss: 0.1920 - val_binary_accuracy: 0.8125 - val_loss: 0.3775\n",
      "Epoch 10/20\n",
      "\u001b[1m163/163\u001b[0m \u001b[32m━━━━━━━━━━━━━━━━━━━━\u001b[0m\u001b[37m\u001b[0m \u001b[1m414s\u001b[0m 3s/step - binary_accuracy: 0.9379 - loss: 0.1914 - val_binary_accuracy: 0.8061 - val_loss: 0.3865\n",
      "Epoch 11/20\n",
      "\u001b[1m163/163\u001b[0m \u001b[32m━━━━━━━━━━━━━━━━━━━━\u001b[0m\u001b[37m\u001b[0m \u001b[1m410s\u001b[0m 3s/step - binary_accuracy: 0.9401 - loss: 0.1831 - val_binary_accuracy: 0.8157 - val_loss: 0.3729\n",
      "Epoch 12/20\n",
      "\u001b[1m163/163\u001b[0m \u001b[32m━━━━━━━━━━━━━━━━━━━━\u001b[0m\u001b[37m\u001b[0m \u001b[1m408s\u001b[0m 2s/step - binary_accuracy: 0.9443 - loss: 0.1701 - val_binary_accuracy: 0.8141 - val_loss: 0.3788\n",
      "Epoch 13/20\n",
      "\u001b[1m163/163\u001b[0m \u001b[32m━━━━━━━━━━━━━━━━━━━━\u001b[0m\u001b[37m\u001b[0m \u001b[1m408s\u001b[0m 2s/step - binary_accuracy: 0.9455 - loss: 0.1691 - val_binary_accuracy: 0.8013 - val_loss: 0.3967\n",
      "Epoch 14/20\n",
      "\u001b[1m163/163\u001b[0m \u001b[32m━━━━━━━━━━━━━━━━━━━━\u001b[0m\u001b[37m\u001b[0m \u001b[1m409s\u001b[0m 3s/step - binary_accuracy: 0.9381 - loss: 0.1671 - val_binary_accuracy: 0.8237 - val_loss: 0.3699\n",
      "Epoch 15/20\n",
      "\u001b[1m163/163\u001b[0m \u001b[32m━━━━━━━━━━━━━━━━━━━━\u001b[0m\u001b[37m\u001b[0m \u001b[1m409s\u001b[0m 2s/step - binary_accuracy: 0.9499 - loss: 0.1582 - val_binary_accuracy: 0.8205 - val_loss: 0.3791\n",
      "Epoch 16/20\n",
      "\u001b[1m163/163\u001b[0m \u001b[32m━━━━━━━━━━━━━━━━━━━━\u001b[0m\u001b[37m\u001b[0m \u001b[1m409s\u001b[0m 2s/step - binary_accuracy: 0.9454 - loss: 0.1594 - val_binary_accuracy: 0.8173 - val_loss: 0.3837\n",
      "Epoch 17/20\n",
      "\u001b[1m163/163\u001b[0m \u001b[32m━━━━━━━━━━━━━━━━━━━━\u001b[0m\u001b[37m\u001b[0m \u001b[1m408s\u001b[0m 2s/step - binary_accuracy: 0.9530 - loss: 0.1442 - val_binary_accuracy: 0.8349 - val_loss: 0.3606\n",
      "Epoch 18/20\n",
      "\u001b[1m163/163\u001b[0m \u001b[32m━━━━━━━━━━━━━━━━━━━━\u001b[0m\u001b[37m\u001b[0m \u001b[1m408s\u001b[0m 2s/step - binary_accuracy: 0.9502 - loss: 0.1514 - val_binary_accuracy: 0.8237 - val_loss: 0.3773\n",
      "Epoch 19/20\n",
      "\u001b[1m163/163\u001b[0m \u001b[32m━━━━━━━━━━━━━━━━━━━━\u001b[0m\u001b[37m\u001b[0m \u001b[1m408s\u001b[0m 2s/step - binary_accuracy: 0.9450 - loss: 0.1552 - val_binary_accuracy: 0.8157 - val_loss: 0.3914\n",
      "Epoch 20/20\n",
      "\u001b[1m163/163\u001b[0m \u001b[32m━━━━━━━━━━━━━━━━━━━━\u001b[0m\u001b[37m\u001b[0m \u001b[1m408s\u001b[0m 2s/step - binary_accuracy: 0.9523 - loss: 0.1451 - val_binary_accuracy: 0.8301 - val_loss: 0.3732\n"
     ]
    }
   ],
   "source": [
    "# Fitting the model and defining number of epochs\n",
    "\n",
    "history = model.fit(train_data,\n",
    "         epochs=20,\n",
    "         validation_data = test_data,\n",
    "         callbacks = [model_checkpoint,early_stopping])"
   ]
  },
  {
   "cell_type": "code",
   "execution_count": 11,
   "id": "0b8640d2",
   "metadata": {},
   "outputs": [
    {
     "name": "stdout",
     "output_type": "stream",
     "text": [
      "\u001b[1m20/20\u001b[0m \u001b[32m━━━━━━━━━━━━━━━━━━━━\u001b[0m\u001b[37m\u001b[0m \u001b[1m45s\u001b[0m 2s/step - binary_accuracy: 0.8155 - loss: 0.3757\n",
      "The accuracy of the model on test dataset is 83.0\n",
      "The loss of the model on test dataset is 36.0\n"
     ]
    }
   ],
   "source": [
    "loss, accuracy = model.evaluate(test_data)\n",
    "print('The accuracy of the model on test dataset is',\n",
    "    np.round(accuracy*100))\n",
    "print('The loss of the model on test dataset is',\n",
    "    np.round(loss*100))"
   ]
  },
  {
   "cell_type": "code",
   "execution_count": 5,
   "id": "a885c752",
   "metadata": {},
   "outputs": [],
   "source": [
    "# Saving the weights for future use\n",
    "\n",
    "model.save('pmod.keras')"
   ]
  }
 ],
 "metadata": {
  "kaggle": {
   "accelerator": "nvidiaTeslaT4",
   "dataSources": [
    {
     "datasetId": 17810,
     "sourceId": 23812,
     "sourceType": "datasetVersion"
    }
   ],
   "dockerImageVersionId": 30587,
   "isGpuEnabled": true,
   "isInternetEnabled": true,
   "language": "python",
   "sourceType": "notebook"
  },
  "kernelspec": {
   "display_name": "Python 3",
   "language": "python",
   "name": "python3"
  },
  "language_info": {
   "codemirror_mode": {
    "name": "ipython",
    "version": 3
   },
   "file_extension": ".py",
   "mimetype": "text/x-python",
   "name": "python",
   "nbconvert_exporter": "python",
   "pygments_lexer": "ipython3",
   "version": "3.12.3"
  },
  "papermill": {
   "default_parameters": {},
   "duration": 1372.329621,
   "end_time": "2023-12-10T20:23:37.761304",
   "environment_variables": {},
   "exception": null,
   "input_path": "__notebook__.ipynb",
   "output_path": "__notebook__.ipynb",
   "parameters": {},
   "start_time": "2023-12-10T20:00:45.431683",
   "version": "2.4.0"
  }
 },
 "nbformat": 4,
 "nbformat_minor": 5
}
